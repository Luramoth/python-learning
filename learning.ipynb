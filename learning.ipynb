{
 "cells": [
  {
   "cell_type": "code",
   "execution_count": null,
   "metadata": {},
   "outputs": [],
   "source": [
    "width = 15\n",
    "height = 12.0\n",
    "print(height/3)"
   ]
  },
  {
   "cell_type": "code",
   "execution_count": null,
   "metadata": {},
   "outputs": [],
   "source": [
    "for n in \"banana\":\n",
    "\tprint(n)"
   ]
  },
  {
   "cell_type": "code",
   "execution_count": null,
   "metadata": {},
   "outputs": [],
   "source": [
    "word = \"banana\"\n",
    "i = word.find(\"na\")\n",
    "print(i)"
   ]
  },
  {
   "cell_type": "code",
   "execution_count": 2,
   "metadata": {},
   "outputs": [
    {
     "name": "stdout",
     "output_type": "stream",
     "text": [
      "yeah boi\n",
      "woo\n",
      "yeahh\n",
      "time to sdo some more stuff yeahhhhh\n",
      "woo\n"
     ]
    }
   ],
   "source": [
    "try:\n",
    "\txfile = open('test.txt')\n",
    "except:\n",
    "\tprint(\"file not found.\")\n",
    "\tquit()\n",
    "\n",
    "for line in xfile :\n",
    "\tline = line.rstrip()\n",
    "\n",
    "\tprint(line)"
   ]
  },
  {
   "cell_type": "code",
   "execution_count": 1,
   "metadata": {},
   "outputs": [
    {
     "name": "stdout",
     "output_type": "stream",
     "text": [
      "your line count is:  3\n"
     ]
    }
   ],
   "source": [
    "countfile = open(input(\"please input a file: \"))\n",
    "countnum = 0\n",
    "\n",
    "for line in countfile:\n",
    "\tcountnum = countnum + 1\n",
    "\n",
    "print(\"your line count is: \", countnum)"
   ]
  },
  {
   "cell_type": "code",
   "execution_count": 13,
   "metadata": {},
   "outputs": [
    {
     "name": "stdout",
     "output_type": "stream",
     "text": [
      "['yeah', 'boi', 'woo', 'yeahh', 'time', 'to', 'sdo', 'some', 'more', 'stuff', 'yeahhhhh', 'woo']\n"
     ]
    }
   ],
   "source": [
    "wordsfile = open('test.txt')\n",
    "\n",
    "words = []\n",
    "\n",
    "for line in wordsfile:\n",
    "\twords.extend(line.split())\n",
    "\n",
    "print(words)"
   ]
  },
  {
   "cell_type": "code",
   "execution_count": 14,
   "metadata": {},
   "outputs": [
    {
     "name": "stdout",
     "output_type": "stream",
     "text": [
      "0\n"
     ]
    }
   ],
   "source": [
    "counts = { 'quincy' : 1 , 'mrugesh' : 42, 'beau': 100, '0': 10}\n",
    "print(counts.get('kris', 0))"
   ]
  }
 ],
 "metadata": {
  "kernelspec": {
   "display_name": "Python 3",
   "language": "python",
   "name": "python3"
  },
  "language_info": {
   "codemirror_mode": {
    "name": "ipython",
    "version": 3
   },
   "file_extension": ".py",
   "mimetype": "text/x-python",
   "name": "python",
   "nbconvert_exporter": "python",
   "pygments_lexer": "ipython3",
   "version": "3.10.9"
  },
  "orig_nbformat": 4,
  "vscode": {
   "interpreter": {
    "hash": "e7370f93d1d0cde622a1f8e1c04877d8463912d04d973331ad4851f04de6915a"
   }
  }
 },
 "nbformat": 4,
 "nbformat_minor": 2
}
